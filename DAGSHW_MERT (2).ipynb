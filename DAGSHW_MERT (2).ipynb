{
  "nbformat": 4,
  "nbformat_minor": 0,
  "metadata": {
    "colab": {
      "provenance": []
    },
    "kernelspec": {
      "name": "python3",
      "display_name": "Python 3"
    },
    "language_info": {
      "name": "python"
    }
  },
  "cells": [
    {
      "cell_type": "code",
      "execution_count": null,
      "metadata": {
        "id": "YeFWwEPDA8pn"
      },
      "outputs": [],
      "source": [
        "pip install pymc3"
      ]
    },
    {
      "cell_type": "code",
      "source": [
        "pip install causalgraphicalmodels"
      ],
      "metadata": {
        "id": "XLVvHLonFuJu"
      },
      "execution_count": null,
      "outputs": []
    },
    {
      "cell_type": "code",
      "source": [
        "pip install -U daft\n"
      ],
      "metadata": {
        "id": "_nF0DbVkV9Ow"
      },
      "execution_count": null,
      "outputs": []
    },
    {
      "cell_type": "markdown",
      "source": [
        "# #The model now represents a scenario where A affects both B and C, B and C both affect D, and there is an unobserved confounder U that affects B, C, and D. \n",
        "# #The model is then simulated by generating random values for the variables A, B, C, D, and U, and plotted to visualize their relationships. \n",
        "# #Next, two Bayesian models are fit to the simulated data using PyMC3. The first model estimates the direct effect of B and C on D, and the second model estimates the direct effect of A, B, and C on D\n",
        "# #The models specify that the mean of the D variable is a linear combination of the predictor variables, with Gaussian noise added. \n",
        "# #The models are then fit to the data using the sample function, and a summary of the fitted models is printed using az.summary."
      ],
      "metadata": {
        "id": "VAUQnfHiL8zC"
      }
    },
    {
      "cell_type": "code",
      "source": [
        "#The model now represents a scenario where A affects both B and C, B and C both affect D, and there is an unobserved confounder U that affects B, C, and D. \n",
        "#The model is then simulated by generating random values for the variables A, B, C, D, and U, and plotted to visualize their relationships. \n",
        "#Next, two Bayesian models are fit to the simulated data using PyMC3. The first model estimates the direct effect of B and C on D, and the second model estimates the direct effect of A, B, and C on D\n",
        "#The models specify that the mean of the D variable is a linear combination of the predictor variables, with Gaussian noise added. \n",
        "#The models are then fit to the data using the sample function, and a summary of the fitted models is printed using az.summary.\n",
        "\n",
        "import os\n",
        "import warnings\n",
        "\n",
        "import arviz as az\n",
        "import daft\n",
        "import matplotlib.pyplot as plt\n",
        "import numpy as np\n",
        "import pandas as pd\n",
        "import pymc3 as pm\n",
        "\n",
        "from causalgraphicalmodels import CausalGraphicalModel\n",
        "from scipy import stats\n",
        "from scipy.interpolate import griddata\n",
        "from theano import shared\n",
        "\n",
        "\n",
        "#In this model, A is a fork node, B and C are pipe nodes, and D is a collider confound node.\n",
        "\n",
        "# Create a PGM object\n",
        "pgm = daft.PGM()\n",
        "\n",
        "# Add nodes to the PGM object\n",
        "pgm.add_node(daft.Node(\"A\", r\"$A$\", 0, 2))\n",
        "pgm.add_node(daft.Node(\"B\", r\"$B$\", 2, 3))\n",
        "pgm.add_node(daft.Node(\"C\", r\"$C$\", 2, 1))\n",
        "pgm.add_node(daft.Node(\"D\", r\"$D$\", 4, 2))\n",
        "\n",
        "# Add edges to the PGM object\n",
        "pgm.add_edge(\"A\", \"B\")\n",
        "pgm.add_edge(\"A\", \"C\")\n",
        "pgm.add_edge(\"B\", \"D\")\n",
        "pgm.add_edge(\"C\", \"D\")\n",
        "\n",
        "# Render the PGM\n",
        "pgm.render()\n",
        "\n",
        "N = 200   # number  triads\n",
        "X = 0.85  # direct effect of A on B\n",
        "Y = 0.95  # direct effect of A on C\n",
        "Z = 1.2   # direct effect of B on D\n",
        "W = 2.25  # direct effect of C on D\n",
        "Q = 2     # direct effect of U on D and C AND B\n",
        "\n",
        "U = 2 * np.random.binomial(1, 0.5, N) - 1\n",
        "A = np.random.normal(size=N)\n",
        "B = np.random.normal(X * A + Q * U)\n",
        "C = np.random.normal(Y * A + Q * U)\n",
        "D=  np.random.normal(Z * B + W * C + Q * U)\n",
        "T = pd.DataFrame.from_dict ({\"D\": D, \"B\": B, \"C\": C, \"A\": A, \"U\": U})\n",
        "\n",
        "# Create a new figure for the first plot\n",
        "plt.figure()\n",
        "\n",
        "\n",
        "plt.scatter(A, B)\n",
        "plt.xlabel(\"A\")\n",
        "plt.ylabel(\"B\")\n",
        "plt.show()\n",
        "\n",
        "plt.scatter(A, C)\n",
        "plt.xlabel(\"A\")\n",
        "plt.ylabel(\"C\")\n",
        "plt.show()\n",
        "\n",
        "plt.scatter(B, D)\n",
        "plt.xlabel(\"B\")\n",
        "plt.ylabel(\"D\")\n",
        "plt.show()\n",
        "\n",
        "plt.scatter(C, D)\n",
        "plt.xlabel(\"C\")\n",
        "plt.ylabel(\"D\")\n",
        "plt.show()\n",
        "\n",
        "\n",
        "with pm.Model() as m_6_12:\n",
        "    M = pm.Normal(\"M\", 0, 1)\n",
        "    Z=  pm.Normal(\"Z\", 0, 1)\n",
        "    W=  pm.Normal(\"W\", 0, 1)\n",
        "    Q = pm.Normal(\"Q\", 0, 1)\n",
        "\n",
        "    mu = M + Z * T.B + W * T.C+ Q * T.U\n",
        "    sigma = pm.Exponential(\"sigma\", 1)\n",
        "\n",
        "    pC = pm.Normal(\"D\", mu, sigma, observed=T.D)\n",
        "\n",
        "    m_6_12_trace = pm.sample()\n",
        "\n",
        "print(\"Model 1 summary:\")\n",
        "az.summary(m_6_12_trace, round_to=2)\n",
        "\n",
        "\n",
        "\n"
      ],
      "metadata": {
        "colab": {
          "base_uri": "https://localhost:8080/",
          "height": 1000
        },
        "id": "h-9JWWIFZZka",
        "outputId": "27e17e74-af41-424b-d0c4-a8649253f693"
      },
      "execution_count": null,
      "outputs": [
        {
          "output_type": "display_data",
          "data": {
            "text/plain": [
              "<Figure size 266.457x153.071 with 1 Axes>"
            ],
            "image/png": "[encoded data removed]"
          },
          "metadata": {}
        },
        {
          "output_type": "display_data",
          "data": {
            "text/plain": [
              "<Figure size 432x288 with 1 Axes>"
            ],
            "image/png": "[encoded data removed]"
          },
          "metadata": {
            "needs_background": "light"
          }
        },
        {
          "output_type": "display_data",
          "data": {
            "text/plain": [
              "<Figure size 432x288 with 1 Axes>"
            ],
            "image/png": "[encoded data removed]"
          },
          "metadata": {
            "needs_background": "light"
          }
        },
        {
          "output_type": "display_data",
          "data": {
            "text/plain": [
              "<Figure size 432x288 with 1 Axes>"
            ],
            "image/png": "[encoded data removed]"
          },
          "metadata": {
            "needs_background": "light"
          }
        },
        {
          "output_type": "display_data",
          "data": {
            "text/plain": [
              "<Figure size 432x288 with 1 Axes>"
            ],
            "image/png": "[encoded data removed]"
          },
          "metadata": {
            "needs_background": "light"
          }
        },
        {
          "output_type": "stream",
          "name": "stderr",
          "text": [
            "/usr/local/lib/python3.8/dist-packages/deprecat/classic.py:215: FutureWarning: In v4.0, pm.sample will return an `arviz.InferenceData` object instead of a `MultiTrace` by default. You can pass return_inferencedata=True or return_inferencedata=False to be safe and silence this warning.\n",
            "  return wrapped_(*args_, **kwargs_)\n"
          ]
        },
        {
          "output_type": "display_data",
          "data": {
            "text/plain": [
              "<IPython.core.display.HTML object>"
            ],
            "text/html": [
              "\n",
              "<style>\n",
              "    /* Turns off some styling */\n",
              "    progress {\n",
              "        /* gets rid of default border in Firefox and Opera. */\n",
              "        border: none;\n",
              "        /* Needs to be in here for Safari polyfill so background images work as expected. */\n",
              "        background-size: auto;\n",
              "    }\n",
              "    progress:not([value]), progress:not([value])::-webkit-progress-bar {\n",
              "        background: repeating-linear-gradient(45deg, #7e7e7e, #7e7e7e 10px, #5c5c5c 10px, #5c5c5c 20px);\n",
              "    }\n",
              "    .progress-bar-interrupted, .progress-bar-interrupted::-webkit-progress-bar {\n",
              "        background: #F44336;\n",
              "    }\n",
              "</style>\n"
            ]
          },
          "metadata": {}
        },
        {
          "output_type": "display_data",
          "data": {
            "text/plain": [
              "<IPython.core.display.HTML object>"
            ],
            "text/html": [
              "\n",
              "    <div>\n",
              "      <progress value='2000' class='' max='2000' style='width:300px; height:20px; vertical-align: middle;'></progress>\n",
              "      100.00% [2000/2000 00:03&lt;00:00 Sampling chain 0, 0 divergences]\n",
              "    </div>\n",
              "    "
            ]
          },
          "metadata": {}
        },
        {
          "output_type": "display_data",
          "data": {
            "text/plain": [
              "<IPython.core.display.HTML object>"
            ],
            "text/html": [
              "\n",
              "<style>\n",
              "    /* Turns off some styling */\n",
              "    progress {\n",
              "        /* gets rid of default border in Firefox and Opera. */\n",
              "        border: none;\n",
              "        /* Needs to be in here for Safari polyfill so background images work as expected. */\n",
              "        background-size: auto;\n",
              "    }\n",
              "    progress:not([value]), progress:not([value])::-webkit-progress-bar {\n",
              "        background: repeating-linear-gradient(45deg, #7e7e7e, #7e7e7e 10px, #5c5c5c 10px, #5c5c5c 20px);\n",
              "    }\n",
              "    .progress-bar-interrupted, .progress-bar-interrupted::-webkit-progress-bar {\n",
              "        background: #F44336;\n",
              "    }\n",
              "</style>\n"
            ]
          },
          "metadata": {}
        },
        {
          "output_type": "display_data",
          "data": {
            "text/plain": [
              "<IPython.core.display.HTML object>"
            ],
            "text/html": [
              "\n",
              "    <div>\n",
              "      <progress value='2000' class='' max='2000' style='width:300px; height:20px; vertical-align: middle;'></progress>\n",
              "      100.00% [2000/2000 00:03&lt;00:00 Sampling chain 1, 0 divergences]\n",
              "    </div>\n",
              "    "
            ]
          },
          "metadata": {}
        },
        {
          "output_type": "stream",
          "name": "stderr",
          "text": [
            "ERROR:arviz.data.io_pymc3_3x:Got error No model on context stack. trying to find log_likelihood in translation.\n"
          ]
        },
        {
          "output_type": "stream",
          "name": "stdout",
          "text": [
            "Model 1 summary:\n"
          ]
        },
        {
          "output_type": "stream",
          "name": "stderr",
          "text": [
            "/usr/local/lib/python3.8/dist-packages/arviz/data/io_pymc3_3x.py:98: FutureWarning: Using `from_pymc3` without the model will be deprecated in a future release. Not using the model will return less accurate and less useful results. Make sure you use the model argument or call from_pymc3 within a model context.\n",
            "  warnings.warn(\n"
          ]
        },
        {
          "output_type": "execute_result",
          "data": {
            "text/plain": [
              "       mean    sd  hdi_3%  hdi_97%  mcse_mean  mcse_sd  ess_bulk  ess_tail  \\\n",
              "M     -0.08  0.07   -0.22     0.06        0.0      0.0   2257.34   1200.09   \n",
              "Z      1.12  0.06    1.01     1.25        0.0      0.0   1634.12   1288.11   \n",
              "W      2.31  0.06    2.20     2.42        0.0      0.0   1827.85   1328.47   \n",
              "Q      2.04  0.14    1.74     2.28        0.0      0.0   1809.22   1261.66   \n",
              "sigma  1.03  0.05    0.94     1.13        0.0      0.0   1752.43    935.25   \n",
              "\n",
              "       r_hat  \n",
              "M        1.0  \n",
              "Z        1.0  \n",
              "W        1.0  \n",
              "Q        1.0  \n",
              "sigma    1.0  "
            ],
            "text/html": [
              "\n",
              "  <div id=\"df-e9f9edb4-7426-4ed8-ac15-e12ff1785fce\">\n",
              "    <div class=\"colab-df-container\">\n",
              "      <div>\n",
              "<style scoped>\n",
              "    .dataframe tbody tr th:only-of-type {\n",
              "        vertical-align: middle;\n",
              "    }\n",
              "\n",
              "    .dataframe tbody tr th {\n",
              "        vertical-align: top;\n",
              "    }\n",
              "\n",
              "    .dataframe thead th {\n",
              "        text-align: right;\n",
              "    }\n",
              "</style>\n",
              "<table border=\"1\" class=\"dataframe\">\n",
              "  <thead>\n",
              "    <tr style=\"text-align: right;\">\n",
              "      <th></th>\n",
              "      <th>mean</th>\n",
              "      <th>sd</th>\n",
              "      <th>hdi_3%</th>\n",
              "      <th>hdi_97%</th>\n",
              "      <th>mcse_mean</th>\n",
              "      <th>mcse_sd</th>\n",
              "      <th>ess_bulk</th>\n",
              "      <th>ess_tail</th>\n",
              "      <th>r_hat</th>\n",
              "    </tr>\n",
              "  </thead>\n",
              "  <tbody>\n",
              "    <tr>\n",
              "      <th>M</th>\n",
              "      <td>-0.08</td>\n",
              "      <td>0.07</td>\n",
              "      <td>-0.22</td>\n",
              "      <td>0.06</td>\n",
              "      <td>0.0</td>\n",
              "      <td>0.0</td>\n",
              "      <td>2257.34</td>\n",
              "      <td>1200.09</td>\n",
              "      <td>1.0</td>\n",
              "    </tr>\n",
              "    <tr>\n",
              "      <th>Z</th>\n",
              "      <td>1.12</td>\n",
              "      <td>0.06</td>\n",
              "      <td>1.01</td>\n",
              "      <td>1.25</td>\n",
              "      <td>0.0</td>\n",
              "      <td>0.0</td>\n",
              "      <td>1634.12</td>\n",
              "      <td>1288.11</td>\n",
              "      <td>1.0</td>\n",
              "    </tr>\n",
              "    <tr>\n",
              "      <th>W</th>\n",
              "      <td>2.31</td>\n",
              "      <td>0.06</td>\n",
              "      <td>2.20</td>\n",
              "      <td>2.42</td>\n",
              "      <td>0.0</td>\n",
              "      <td>0.0</td>\n",
              "      <td>1827.85</td>\n",
              "      <td>1328.47</td>\n",
              "      <td>1.0</td>\n",
              "    </tr>\n",
              "    <tr>\n",
              "      <th>Q</th>\n",
              "      <td>2.04</td>\n",
              "      <td>0.14</td>\n",
              "      <td>1.74</td>\n",
              "      <td>2.28</td>\n",
              "      <td>0.0</td>\n",
              "      <td>0.0</td>\n",
              "      <td>1809.22</td>\n",
              "      <td>1261.66</td>\n",
              "      <td>1.0</td>\n",
              "    </tr>\n",
              "    <tr>\n",
              "      <th>sigma</th>\n",
              "      <td>1.03</td>\n",
              "      <td>0.05</td>\n",
              "      <td>0.94</td>\n",
              "      <td>1.13</td>\n",
              "      <td>0.0</td>\n",
              "      <td>0.0</td>\n",
              "      <td>1752.43</td>\n",
              "      <td>935.25</td>\n",
              "      <td>1.0</td>\n",
              "    </tr>\n",
              "  </tbody>\n",
              "</table>\n",
              "</div>\n",
              "      <button class=\"colab-df-convert\" onclick=\"convertToInteractive('df-e9f9edb4-7426-4ed8-ac15-e12ff1785fce')\"\n",
              "              title=\"Convert this dataframe to an interactive table.\"\n",
              "              style=\"display:none;\">\n",
              "        \n",
              "  <svg xmlns=\"http://www.w3.org/2000/svg\" height=\"24px\"viewBox=\"0 0 24 24\"\n",
              "       width=\"24px\">\n",
              "    <path d=\"M0 0h24v24H0V0z\" fill=\"none\"/>\n",
              "    <path d=\"M18.56 5.44l.94 2.06.94-2.06 2.06-.94-2.06-.94-.94-2.06-.94 2.06-2.06.94zm-11 1L8.5 8.5l.94-2.06 2.06-.94-2.06-.94L8.5 2.5l-.94 2.06-2.06.94zm10 10l.94 2.06.94-2.06 2.06-.94-2.06-.94-.94-2.06-.94 2.06-2.06.94z\"/><path d=\"M17.41 7.96l-1.37-1.37c-.4-.4-.92-.59-1.43-.59-.52 0-1.04.2-1.43.59L10.3 9.45l-7.72 7.72c-.78.78-.78 2.05 0 2.83L4 21.41c.39.39.9.59 1.41.59.51 0 1.02-.2 1.41-.59l7.78-7.78 2.81-2.81c.8-.78.8-2.07 0-2.86zM5.41 20L4 18.59l7.72-7.72 1.47 1.35L5.41 20z\"/>\n",
              "  </svg>\n",
              "      </button>\n",
              "      \n",
              "  <style>\n",
              "    .colab-df-container {\n",
              "      display:flex;\n",
              "      flex-wrap:wrap;\n",
              "      gap: 12px;\n",
              "    }\n",
              "\n",
              "    .colab-df-convert {\n",
              "      background-color: #E8F0FE;\n",
              "      border: none;\n",
              "      border-radius: 50%;\n",
              "      cursor: pointer;\n",
              "      display: none;\n",
              "      fill: #1967D2;\n",
              "      height: 32px;\n",
              "      padding: 0 0 0 0;\n",
              "      width: 32px;\n",
              "    }\n",
              "\n",
              "    .colab-df-convert:hover {\n",
              "      background-color: #E2EBFA;\n",
              "      box-shadow: 0px 1px 2px rgba(60, 64, 67, 0.3), 0px 1px 3px 1px rgba(60, 64, 67, 0.15);\n",
              "      fill: #174EA6;\n",
              "    }\n",
              "\n",
              "    [theme=dark] .colab-df-convert {\n",
              "      background-color: #3B4455;\n",
              "      fill: #D2E3FC;\n",
              "    }\n",
              "\n",
              "    [theme=dark] .colab-df-convert:hover {\n",
              "      background-color: #434B5C;\n",
              "      box-shadow: 0px 1px 3px 1px rgba(0, 0, 0, 0.15);\n",
              "      filter: drop-shadow(0px 1px 2px rgba(0, 0, 0, 0.3));\n",
              "      fill: #FFFFFF;\n",
              "    }\n",
              "  </style>\n",
              "\n",
              "      <script>\n",
              "        const buttonEl =\n",
              "          document.querySelector('#df-e9f9edb4-7426-4ed8-ac15-e12ff1785fce button.colab-df-convert');\n",
              "        buttonEl.style.display =\n",
              "          google.colab.kernel.accessAllowed ? 'block' : 'none';\n",
              "\n",
              "        async function convertToInteractive(key) {\n",
              "          const element = document.querySelector('#df-e9f9edb4-7426-4ed8-ac15-e12ff1785fce');\n",
              "          const dataTable =\n",
              "            await google.colab.kernel.invokeFunction('convertToInteractive',\n",
              "                                                     [key], {});\n",
              "          if (!dataTable) return;\n",
              "\n",
              "          const docLinkHtml = 'Like what you see? Visit the ' +\n",
              "            '<a target=\"_blank\" href=https://colab.research.google.com/notebooks/data_table.ipynb>data table notebook</a>'\n",
              "            + ' to learn more about interactive tables.';\n",
              "          element.innerHTML = '';\n",
              "          dataTable['output_type'] = 'display_data';\n",
              "          await google.colab.output.renderOutput(dataTable, element);\n",
              "          const docLink = document.createElement('div');\n",
              "          docLink.innerHTML = docLinkHtml;\n",
              "          element.appendChild(docLink);\n",
              "        }\n",
              "      </script>\n",
              "    </div>\n",
              "  </div>\n",
              "  "
            ]
          },
          "metadata": {},
          "execution_count": 20
        }
      ]
    },
    {
      "cell_type": "code",
      "source": [
        "\n",
        "N = 200   # number  triads\n",
        "X = 0.85  # direct effect of A on B\n",
        "Y = 0.95  # direct effect of A on C\n",
        "Z = 1.2   # direct effect of B on D\n",
        "W = 2.25  # direct effect of C on D\n",
        "Q = 2     # direct effect of U on D and C AND B\n",
        "\n",
        "U = 2 * np.random.binomial(1, 0.5, N) - 1\n",
        "A = np.random.normal(size=N)\n",
        "B = np.random.normal(X * A + Q * U)\n",
        "C = np.random.normal(Y * A + Q * U)\n",
        "D=  np.random.normal(Z * B + W * C + Q * U)\n",
        "T = pd.DataFrame.from_dict ({\"D\": D, \"B\": B, \"C\": C, \"A\": A, \"U\": U})\n",
        "\n",
        "\n",
        "\n",
        "with pm.Model() as m_6_13:\n",
        "    M = pm.Normal(\"M\", 0, 1)\n",
        "    X=  pm.Normal(\"X\", 0, 1)\n",
        "    Y=  pm.Normal(\"Y\", 0, 1)\n",
        "    Z=  pm.Normal(\"Z\", 0, 1)\n",
        "    W=  pm.Normal(\"W\", 0, 1)\n",
        "    Q = pm.Normal(\"Q\", 0, 1)\n",
        "\n",
        "    mu = M + X * T.A+ Y * T.A+ Z * T.B + W * T.C+ Q * T.U\n",
        "    sigma = pm.Exponential(\"sigma\", 1)\n",
        "\n",
        "    pC = pm.Normal(\"D\", mu, sigma, observed=T.D)\n",
        "\n",
        "    m_6_13_trace = pm.sample()\n",
        "\n",
        "print(\"Model 2 summary:\")\n",
        "az.summary(m_6_13_trace, round_to=2)\n",
        "\n",
        "\n",
        "\n",
        "\n"
      ],
      "metadata": {
        "colab": {
          "base_uri": "https://localhost:8080/",
          "height": 476
        },
        "id": "WkKW_ls1BmzX",
        "outputId": "6f8bef09-8af2-4247-d67f-b0eac01de4b9"
      },
      "execution_count": null,
      "outputs": [
        {
          "output_type": "stream",
          "name": "stderr",
          "text": [
            "/usr/local/lib/python3.8/dist-packages/deprecat/classic.py:215: FutureWarning: In v4.0, pm.sample will return an `arviz.InferenceData` object instead of a `MultiTrace` by default. You can pass return_inferencedata=True or return_inferencedata=False to be safe and silence this warning.\n",
            "  return wrapped_(*args_, **kwargs_)\n"
          ]
        },
        {
          "output_type": "display_data",
          "data": {
            "text/plain": [
              "<IPython.core.display.HTML object>"
            ],
            "text/html": [
              "\n",
              "<style>\n",
              "    /* Turns off some styling */\n",
              "    progress {\n",
              "        /* gets rid of default border in Firefox and Opera. */\n",
              "        border: none;\n",
              "        /* Needs to be in here for Safari polyfill so background images work as expected. */\n",
              "        background-size: auto;\n",
              "    }\n",
              "    progress:not([value]), progress:not([value])::-webkit-progress-bar {\n",
              "        background: repeating-linear-gradient(45deg, #7e7e7e, #7e7e7e 10px, #5c5c5c 10px, #5c5c5c 20px);\n",
              "    }\n",
              "    .progress-bar-interrupted, .progress-bar-interrupted::-webkit-progress-bar {\n",
              "        background: #F44336;\n",
              "    }\n",
              "</style>\n"
            ]
          },
          "metadata": {}
        },
        {
          "output_type": "display_data",
          "data": {
            "text/plain": [
              "<IPython.core.display.HTML object>"
            ],
            "text/html": [
              "\n",
              "    <div>\n",
              "      <progress value='2000' class='' max='2000' style='width:300px; height:20px; vertical-align: middle;'></progress>\n",
              "      100.00% [2000/2000 00:11&lt;00:00 Sampling chain 0, 2 divergences]\n",
              "    </div>\n",
              "    "
            ]
          },
          "metadata": {}
        },
        {
          "output_type": "display_data",
          "data": {
            "text/plain": [
              "<IPython.core.display.HTML object>"
            ],
            "text/html": [
              "\n",
              "<style>\n",
              "    /* Turns off some styling */\n",
              "    progress {\n",
              "        /* gets rid of default border in Firefox and Opera. */\n",
              "        border: none;\n",
              "        /* Needs to be in here for Safari polyfill so background images work as expected. */\n",
              "        background-size: auto;\n",
              "    }\n",
              "    progress:not([value]), progress:not([value])::-webkit-progress-bar {\n",
              "        background: repeating-linear-gradient(45deg, #7e7e7e, #7e7e7e 10px, #5c5c5c 10px, #5c5c5c 20px);\n",
              "    }\n",
              "    .progress-bar-interrupted, .progress-bar-interrupted::-webkit-progress-bar {\n",
              "        background: #F44336;\n",
              "    }\n",
              "</style>\n"
            ]
          },
          "metadata": {}
        },
        {
          "output_type": "display_data",
          "data": {
            "text/plain": [
              "<IPython.core.display.HTML object>"
            ],
            "text/html": [
              "\n",
              "    <div>\n",
              "      <progress value='2000' class='' max='2000' style='width:300px; height:20px; vertical-align: middle;'></progress>\n",
              "      100.00% [2000/2000 00:11&lt;00:00 Sampling chain 1, 0 divergences]\n",
              "    </div>\n",
              "    "
            ]
          },
          "metadata": {}
        },
        {
          "output_type": "stream",
          "name": "stderr",
          "text": [
            "ERROR:pymc3:There were 2 divergences after tuning. Increase `target_accept` or reparameterize.\n",
            "ERROR:pymc3:There were 2 divergences after tuning. Increase `target_accept` or reparameterize.\n",
            "ERROR:arviz.data.io_pymc3_3x:Got error No model on context stack. trying to find log_likelihood in translation.\n",
            "/usr/local/lib/python3.8/dist-packages/arviz/data/io_pymc3_3x.py:98: FutureWarning: Using `from_pymc3` without the model will be deprecated in a future release. Not using the model will return less accurate and less useful results. Make sure you use the model argument or call from_pymc3 within a model context.\n",
            "  warnings.warn(\n"
          ]
        },
        {
          "output_type": "stream",
          "name": "stdout",
          "text": [
            "Model 2 summary:\n"
          ]
        },
        {
          "output_type": "execute_result",
          "data": {
            "text/plain": [
              "       mean    sd  hdi_3%  hdi_97%  mcse_mean  mcse_sd  ess_bulk  ess_tail  \\\n",
              "M      0.03  0.07   -0.10     0.17       0.00     0.00   1899.38   1246.37   \n",
              "X     -0.00  0.74   -1.42     1.37       0.02     0.02   1284.63   1147.19   \n",
              "Y      0.02  0.74   -1.35     1.42       0.02     0.02   1203.28   1127.97   \n",
              "Z      1.24  0.07    1.10     1.38       0.00     0.00    977.12   1180.55   \n",
              "W      2.22  0.07    2.09     2.35       0.00     0.00   1166.47   1135.09   \n",
              "Q      1.87  0.21    1.45     2.24       0.01     0.00    997.77   1048.57   \n",
              "sigma  1.04  0.05    0.95     1.14       0.00     0.00   1632.32   1011.86   \n",
              "\n",
              "       r_hat  \n",
              "M        1.0  \n",
              "X        1.0  \n",
              "Y        1.0  \n",
              "Z        1.0  \n",
              "W        1.0  \n",
              "Q        1.0  \n",
              "sigma    1.0  "
            ],
            "text/html": [
              "\n",
              "  <div id=\"df-b36f32b8-41ea-47b5-a970-653044508bf9\">\n",
              "    <div class=\"colab-df-container\">\n",
              "      <div>\n",
              "<style scoped>\n",
              "    .dataframe tbody tr th:only-of-type {\n",
              "        vertical-align: middle;\n",
              "    }\n",
              "\n",
              "    .dataframe tbody tr th {\n",
              "        vertical-align: top;\n",
              "    }\n",
              "\n",
              "    .dataframe thead th {\n",
              "        text-align: right;\n",
              "    }\n",
              "</style>\n",
              "<table border=\"1\" class=\"dataframe\">\n",
              "  <thead>\n",
              "    <tr style=\"text-align: right;\">\n",
              "      <th></th>\n",
              "      <th>mean</th>\n",
              "      <th>sd</th>\n",
              "      <th>hdi_3%</th>\n",
              "      <th>hdi_97%</th>\n",
              "      <th>mcse_mean</th>\n",
              "      <th>mcse_sd</th>\n",
              "      <th>ess_bulk</th>\n",
              "      <th>ess_tail</th>\n",
              "      <th>r_hat</th>\n",
              "    </tr>\n",
              "  </thead>\n",
              "  <tbody>\n",
              "    <tr>\n",
              "      <th>M</th>\n",
              "      <td>0.03</td>\n",
              "      <td>0.07</td>\n",
              "      <td>-0.10</td>\n",
              "      <td>0.17</td>\n",
              "      <td>0.00</td>\n",
              "      <td>0.00</td>\n",
              "      <td>1899.38</td>\n",
              "      <td>1246.37</td>\n",
              "      <td>1.0</td>\n",
              "    </tr>\n",
              "    <tr>\n",
              "      <th>X</th>\n",
              "      <td>-0.00</td>\n",
              "      <td>0.74</td>\n",
              "      <td>-1.42</td>\n",
              "      <td>1.37</td>\n",
              "      <td>0.02</td>\n",
              "      <td>0.02</td>\n",
              "      <td>1284.63</td>\n",
              "      <td>1147.19</td>\n",
              "      <td>1.0</td>\n",
              "    </tr>\n",
              "    <tr>\n",
              "      <th>Y</th>\n",
              "      <td>0.02</td>\n",
              "      <td>0.74</td>\n",
              "      <td>-1.35</td>\n",
              "      <td>1.42</td>\n",
              "      <td>0.02</td>\n",
              "      <td>0.02</td>\n",
              "      <td>1203.28</td>\n",
              "      <td>1127.97</td>\n",
              "      <td>1.0</td>\n",
              "    </tr>\n",
              "    <tr>\n",
              "      <th>Z</th>\n",
              "      <td>1.24</td>\n",
              "      <td>0.07</td>\n",
              "      <td>1.10</td>\n",
              "      <td>1.38</td>\n",
              "      <td>0.00</td>\n",
              "      <td>0.00</td>\n",
              "      <td>977.12</td>\n",
              "      <td>1180.55</td>\n",
              "      <td>1.0</td>\n",
              "    </tr>\n",
              "    <tr>\n",
              "      <th>W</th>\n",
              "      <td>2.22</td>\n",
              "      <td>0.07</td>\n",
              "      <td>2.09</td>\n",
              "      <td>2.35</td>\n",
              "      <td>0.00</td>\n",
              "      <td>0.00</td>\n",
              "      <td>1166.47</td>\n",
              "      <td>1135.09</td>\n",
              "      <td>1.0</td>\n",
              "    </tr>\n",
              "    <tr>\n",
              "      <th>Q</th>\n",
              "      <td>1.87</td>\n",
              "      <td>0.21</td>\n",
              "      <td>1.45</td>\n",
              "      <td>2.24</td>\n",
              "      <td>0.01</td>\n",
              "      <td>0.00</td>\n",
              "      <td>997.77</td>\n",
              "      <td>1048.57</td>\n",
              "      <td>1.0</td>\n",
              "    </tr>\n",
              "    <tr>\n",
              "      <th>sigma</th>\n",
              "      <td>1.04</td>\n",
              "      <td>0.05</td>\n",
              "      <td>0.95</td>\n",
              "      <td>1.14</td>\n",
              "      <td>0.00</td>\n",
              "      <td>0.00</td>\n",
              "      <td>1632.32</td>\n",
              "      <td>1011.86</td>\n",
              "      <td>1.0</td>\n",
              "    </tr>\n",
              "  </tbody>\n",
              "</table>\n",
              "</div>\n",
              "      <button class=\"colab-df-convert\" onclick=\"convertToInteractive('df-b36f32b8-41ea-47b5-a970-653044508bf9')\"\n",
              "              title=\"Convert this dataframe to an interactive table.\"\n",
              "              style=\"display:none;\">\n",
              "        \n",
              "  <svg xmlns=\"http://www.w3.org/2000/svg\" height=\"24px\"viewBox=\"0 0 24 24\"\n",
              "       width=\"24px\">\n",
              "    <path d=\"M0 0h24v24H0V0z\" fill=\"none\"/>\n",
              "    <path d=\"M18.56 5.44l.94 2.06.94-2.06 2.06-.94-2.06-.94-.94-2.06-.94 2.06-2.06.94zm-11 1L8.5 8.5l.94-2.06 2.06-.94-2.06-.94L8.5 2.5l-.94 2.06-2.06.94zm10 10l.94 2.06.94-2.06 2.06-.94-2.06-.94-.94-2.06-.94 2.06-2.06.94z\"/><path d=\"M17.41 7.96l-1.37-1.37c-.4-.4-.92-.59-1.43-.59-.52 0-1.04.2-1.43.59L10.3 9.45l-7.72 7.72c-.78.78-.78 2.05 0 2.83L4 21.41c.39.39.9.59 1.41.59.51 0 1.02-.2 1.41-.59l7.78-7.78 2.81-2.81c.8-.78.8-2.07 0-2.86zM5.41 20L4 18.59l7.72-7.72 1.47 1.35L5.41 20z\"/>\n",
              "  </svg>\n",
              "      </button>\n",
              "      \n",
              "  <style>\n",
              "    .colab-df-container {\n",
              "      display:flex;\n",
              "      flex-wrap:wrap;\n",
              "      gap: 12px;\n",
              "    }\n",
              "\n",
              "    .colab-df-convert {\n",
              "      background-color: #E8F0FE;\n",
              "      border: none;\n",
              "      border-radius: 50%;\n",
              "      cursor: pointer;\n",
              "      display: none;\n",
              "      fill: #1967D2;\n",
              "      height: 32px;\n",
              "      padding: 0 0 0 0;\n",
              "      width: 32px;\n",
              "    }\n",
              "\n",
              "    .colab-df-convert:hover {\n",
              "      background-color: #E2EBFA;\n",
              "      box-shadow: 0px 1px 2px rgba(60, 64, 67, 0.3), 0px 1px 3px 1px rgba(60, 64, 67, 0.15);\n",
              "      fill: #174EA6;\n",
              "    }\n",
              "\n",
              "    [theme=dark] .colab-df-convert {\n",
              "      background-color: #3B4455;\n",
              "      fill: #D2E3FC;\n",
              "    }\n",
              "\n",
              "    [theme=dark] .colab-df-convert:hover {\n",
              "      background-color: #434B5C;\n",
              "      box-shadow: 0px 1px 3px 1px rgba(0, 0, 0, 0.15);\n",
              "      filter: drop-shadow(0px 1px 2px rgba(0, 0, 0, 0.3));\n",
              "      fill: #FFFFFF;\n",
              "    }\n",
              "  </style>\n",
              "\n",
              "      <script>\n",
              "        const buttonEl =\n",
              "          document.querySelector('#df-b36f32b8-41ea-47b5-a970-653044508bf9 button.colab-df-convert');\n",
              "        buttonEl.style.display =\n",
              "          google.colab.kernel.accessAllowed ? 'block' : 'none';\n",
              "\n",
              "        async function convertToInteractive(key) {\n",
              "          const element = document.querySelector('#df-b36f32b8-41ea-47b5-a970-653044508bf9');\n",
              "          const dataTable =\n",
              "            await google.colab.kernel.invokeFunction('convertToInteractive',\n",
              "                                                     [key], {});\n",
              "          if (!dataTable) return;\n",
              "\n",
              "          const docLinkHtml = 'Like what you see? Visit the ' +\n",
              "            '<a target=\"_blank\" href=https://colab.research.google.com/notebooks/data_table.ipynb>data table notebook</a>'\n",
              "            + ' to learn more about interactive tables.';\n",
              "          element.innerHTML = '';\n",
              "          dataTable['output_type'] = 'display_data';\n",
              "          await google.colab.output.renderOutput(dataTable, element);\n",
              "          const docLink = document.createElement('div');\n",
              "          docLink.innerHTML = docLinkHtml;\n",
              "          element.appendChild(docLink);\n",
              "        }\n",
              "      </script>\n",
              "    </div>\n",
              "  </div>\n",
              "  "
            ]
          },
          "metadata": {},
          "execution_count": 19
        }
      ]
    },
    {
      "cell_type": "markdown",
      "source": [
        "#>According to the HDI values, Model 2 has higher credibility intervals for all the parameters except for M and sigma, where the HDI values for Model 1 are higher. \n",
        "#>This means that for Model 2, we have more certain estimates for most of the parameters compared to Model 1. "
      ],
      "metadata": {
        "id": "lPzvPqbvNCgA"
      }
    },
    {
      "cell_type": "code",
      "source": [
        "N = 200   # number  triads\n",
        "X = 0.85  # direct effect of A on B\n",
        "Z = 1.2   # direct effect of B on D\n",
        "Q = 2     # direct effect of U on D and C AND B\n",
        "\n",
        "U = 2 * np.random.binomial(1, 0.5, N) - 1\n",
        "A = np.random.normal(size=N)\n",
        "B = np.random.normal(X * A + Q * U)\n",
        "D=  np.random.normal(Z * B +  Q * U)\n",
        "T = pd.DataFrame.from_dict ({\"D\": D, \"B\": B,  \"A\": A, \"U\": U})\n",
        "\n",
        "\n",
        "\n",
        "with pm.Model() as m_6_14:\n",
        "    M = pm.Normal(\"M\", 0, 1)\n",
        "    X=  pm.Normal(\"X\", 0, 1)\n",
        "    Z=  pm.Normal(\"Z\", 0, 1)\n",
        "    W=  pm.Normal(\"W\", 0, 1)\n",
        "    Q = pm.Normal(\"Q\", 0, 1)\n",
        "\n",
        "    mu = M + X * T.A +  Z * T.B + Q * T.U\n",
        "    sigma = pm.Exponential(\"sigma\", 1)\n",
        "\n",
        "    pC = pm.Normal(\"D\", mu, sigma, observed=T.D)\n",
        "\n",
        "    m_6_14_trace = pm.sample()\n",
        "\n",
        "print(\"Model 3 summary:\")\n",
        "az.summary(m_6_14_trace, round_to=2)\n",
        "\n",
        "#According to the HDI values, Model 2 has higher credibility intervals for all the parameters except for M and sigma, where the HDI values for Model 1 are higher. \n",
        "#This means that for Model 2, we have more certain estimates for most of the parameters compared to Model 1. "
      ],
      "metadata": {
        "colab": {
          "base_uri": "https://localhost:8080/",
          "height": 427
        },
        "id": "ijSDmtNZKxKt",
        "outputId": "af9ef3a1-6ce7-40f0-dd82-f673f76bb824"
      },
      "execution_count": null,
      "outputs": [
        {
          "output_type": "stream",
          "name": "stderr",
          "text": [
            "/usr/local/lib/python3.8/dist-packages/deprecat/classic.py:215: FutureWarning: In v4.0, pm.sample will return an `arviz.InferenceData` object instead of a `MultiTrace` by default. You can pass return_inferencedata=True or return_inferencedata=False to be safe and silence this warning.\n",
            "  return wrapped_(*args_, **kwargs_)\n"
          ]
        },
        {
          "output_type": "display_data",
          "data": {
            "text/plain": [
              "<IPython.core.display.HTML object>"
            ],
            "text/html": [
              "\n",
              "<style>\n",
              "    /* Turns off some styling */\n",
              "    progress {\n",
              "        /* gets rid of default border in Firefox and Opera. */\n",
              "        border: none;\n",
              "        /* Needs to be in here for Safari polyfill so background images work as expected. */\n",
              "        background-size: auto;\n",
              "    }\n",
              "    progress:not([value]), progress:not([value])::-webkit-progress-bar {\n",
              "        background: repeating-linear-gradient(45deg, #7e7e7e, #7e7e7e 10px, #5c5c5c 10px, #5c5c5c 20px);\n",
              "    }\n",
              "    .progress-bar-interrupted, .progress-bar-interrupted::-webkit-progress-bar {\n",
              "        background: #F44336;\n",
              "    }\n",
              "</style>\n"
            ]
          },
          "metadata": {}
        },
        {
          "output_type": "display_data",
          "data": {
            "text/plain": [
              "<IPython.core.display.HTML object>"
            ],
            "text/html": [
              "\n",
              "    <div>\n",
              "      <progress value='2000' class='' max='2000' style='width:300px; height:20px; vertical-align: middle;'></progress>\n",
              "      100.00% [2000/2000 00:03&lt;00:00 Sampling chain 0, 0 divergences]\n",
              "    </div>\n",
              "    "
            ]
          },
          "metadata": {}
        },
        {
          "output_type": "display_data",
          "data": {
            "text/plain": [
              "<IPython.core.display.HTML object>"
            ],
            "text/html": [
              "\n",
              "<style>\n",
              "    /* Turns off some styling */\n",
              "    progress {\n",
              "        /* gets rid of default border in Firefox and Opera. */\n",
              "        border: none;\n",
              "        /* Needs to be in here for Safari polyfill so background images work as expected. */\n",
              "        background-size: auto;\n",
              "    }\n",
              "    progress:not([value]), progress:not([value])::-webkit-progress-bar {\n",
              "        background: repeating-linear-gradient(45deg, #7e7e7e, #7e7e7e 10px, #5c5c5c 10px, #5c5c5c 20px);\n",
              "    }\n",
              "    .progress-bar-interrupted, .progress-bar-interrupted::-webkit-progress-bar {\n",
              "        background: #F44336;\n",
              "    }\n",
              "</style>\n"
            ]
          },
          "metadata": {}
        },
        {
          "output_type": "display_data",
          "data": {
            "text/plain": [
              "<IPython.core.display.HTML object>"
            ],
            "text/html": [
              "\n",
              "    <div>\n",
              "      <progress value='2000' class='' max='2000' style='width:300px; height:20px; vertical-align: middle;'></progress>\n",
              "      100.00% [2000/2000 00:03&lt;00:00 Sampling chain 1, 0 divergences]\n",
              "    </div>\n",
              "    "
            ]
          },
          "metadata": {}
        },
        {
          "output_type": "stream",
          "name": "stderr",
          "text": [
            "WARNING:pymc3:The acceptance probability does not match the target. It is 0.8811250429559885, but should be close to 0.8. Try to increase the number of tuning steps.\n",
            "ERROR:arviz.data.io_pymc3_3x:Got error No model on context stack. trying to find log_likelihood in translation.\n",
            "/usr/local/lib/python3.8/dist-packages/arviz/data/io_pymc3_3x.py:98: FutureWarning: Using `from_pymc3` without the model will be deprecated in a future release. Not using the model will return less accurate and less useful results. Make sure you use the model argument or call from_pymc3 within a model context.\n",
            "  warnings.warn(\n"
          ]
        },
        {
          "output_type": "stream",
          "name": "stdout",
          "text": [
            "Model 3 summary:\n"
          ]
        },
        {
          "output_type": "execute_result",
          "data": {
            "text/plain": [
              "       mean    sd  hdi_3%  hdi_97%  mcse_mean  mcse_sd  ess_bulk  ess_tail  \\\n",
              "M     -0.02  0.07   -0.17     0.11       0.00     0.00   2487.88   1500.11   \n",
              "X      0.02  0.09   -0.15     0.19       0.00     0.00   1278.57   1130.06   \n",
              "Z      1.23  0.07    1.10     1.36       0.00     0.00   1118.24   1262.70   \n",
              "W      0.00  1.03   -1.82     2.01       0.02     0.03   2251.16   1317.39   \n",
              "Q      1.88  0.16    1.60     2.18       0.00     0.00   1209.99   1274.51   \n",
              "sigma  0.99  0.05    0.90     1.08       0.00     0.00   1932.37   1264.36   \n",
              "\n",
              "       r_hat  \n",
              "M        1.0  \n",
              "X        1.0  \n",
              "Z        1.0  \n",
              "W        1.0  \n",
              "Q        1.0  \n",
              "sigma    1.0  "
            ],
            "text/html": [
              "\n",
              "  <div id=\"df-334a4e68-6a07-4de3-882e-a842d0bd87e4\">\n",
              "    <div class=\"colab-df-container\">\n",
              "      <div>\n",
              "<style scoped>\n",
              "    .dataframe tbody tr th:only-of-type {\n",
              "        vertical-align: middle;\n",
              "    }\n",
              "\n",
              "    .dataframe tbody tr th {\n",
              "        vertical-align: top;\n",
              "    }\n",
              "\n",
              "    .dataframe thead th {\n",
              "        text-align: right;\n",
              "    }\n",
              "</style>\n",
              "<table border=\"1\" class=\"dataframe\">\n",
              "  <thead>\n",
              "    <tr style=\"text-align: right;\">\n",
              "      <th></th>\n",
              "      <th>mean</th>\n",
              "      <th>sd</th>\n",
              "      <th>hdi_3%</th>\n",
              "      <th>hdi_97%</th>\n",
              "      <th>mcse_mean</th>\n",
              "      <th>mcse_sd</th>\n",
              "      <th>ess_bulk</th>\n",
              "      <th>ess_tail</th>\n",
              "      <th>r_hat</th>\n",
              "    </tr>\n",
              "  </thead>\n",
              "  <tbody>\n",
              "    <tr>\n",
              "      <th>M</th>\n",
              "      <td>-0.02</td>\n",
              "      <td>0.07</td>\n",
              "      <td>-0.17</td>\n",
              "      <td>0.11</td>\n",
              "      <td>0.00</td>\n",
              "      <td>0.00</td>\n",
              "      <td>2487.88</td>\n",
              "      <td>1500.11</td>\n",
              "      <td>1.0</td>\n",
              "    </tr>\n",
              "    <tr>\n",
              "      <th>X</th>\n",
              "      <td>0.02</td>\n",
              "      <td>0.09</td>\n",
              "      <td>-0.15</td>\n",
              "      <td>0.19</td>\n",
              "      <td>0.00</td>\n",
              "      <td>0.00</td>\n",
              "      <td>1278.57</td>\n",
              "      <td>1130.06</td>\n",
              "      <td>1.0</td>\n",
              "    </tr>\n",
              "    <tr>\n",
              "      <th>Z</th>\n",
              "      <td>1.23</td>\n",
              "      <td>0.07</td>\n",
              "      <td>1.10</td>\n",
              "      <td>1.36</td>\n",
              "      <td>0.00</td>\n",
              "      <td>0.00</td>\n",
              "      <td>1118.24</td>\n",
              "      <td>1262.70</td>\n",
              "      <td>1.0</td>\n",
              "    </tr>\n",
              "    <tr>\n",
              "      <th>W</th>\n",
              "      <td>0.00</td>\n",
              "      <td>1.03</td>\n",
              "      <td>-1.82</td>\n",
              "      <td>2.01</td>\n",
              "      <td>0.02</td>\n",
              "      <td>0.03</td>\n",
              "      <td>2251.16</td>\n",
              "      <td>1317.39</td>\n",
              "      <td>1.0</td>\n",
              "    </tr>\n",
              "    <tr>\n",
              "      <th>Q</th>\n",
              "      <td>1.88</td>\n",
              "      <td>0.16</td>\n",
              "      <td>1.60</td>\n",
              "      <td>2.18</td>\n",
              "      <td>0.00</td>\n",
              "      <td>0.00</td>\n",
              "      <td>1209.99</td>\n",
              "      <td>1274.51</td>\n",
              "      <td>1.0</td>\n",
              "    </tr>\n",
              "    <tr>\n",
              "      <th>sigma</th>\n",
              "      <td>0.99</td>\n",
              "      <td>0.05</td>\n",
              "      <td>0.90</td>\n",
              "      <td>1.08</td>\n",
              "      <td>0.00</td>\n",
              "      <td>0.00</td>\n",
              "      <td>1932.37</td>\n",
              "      <td>1264.36</td>\n",
              "      <td>1.0</td>\n",
              "    </tr>\n",
              "  </tbody>\n",
              "</table>\n",
              "</div>\n",
              "      <button class=\"colab-df-convert\" onclick=\"convertToInteractive('df-334a4e68-6a07-4de3-882e-a842d0bd87e4')\"\n",
              "              title=\"Convert this dataframe to an interactive table.\"\n",
              "              style=\"display:none;\">\n",
              "        \n",
              "  <svg xmlns=\"http://www.w3.org/2000/svg\" height=\"24px\"viewBox=\"0 0 24 24\"\n",
              "       width=\"24px\">\n",
              "    <path d=\"M0 0h24v24H0V0z\" fill=\"none\"/>\n",
              "    <path d=\"M18.56 5.44l.94 2.06.94-2.06 2.06-.94-2.06-.94-.94-2.06-.94 2.06-2.06.94zm-11 1L8.5 8.5l.94-2.06 2.06-.94-2.06-.94L8.5 2.5l-.94 2.06-2.06.94zm10 10l.94 2.06.94-2.06 2.06-.94-2.06-.94-.94-2.06-.94 2.06-2.06.94z\"/><path d=\"M17.41 7.96l-1.37-1.37c-.4-.4-.92-.59-1.43-.59-.52 0-1.04.2-1.43.59L10.3 9.45l-7.72 7.72c-.78.78-.78 2.05 0 2.83L4 21.41c.39.39.9.59 1.41.59.51 0 1.02-.2 1.41-.59l7.78-7.78 2.81-2.81c.8-.78.8-2.07 0-2.86zM5.41 20L4 18.59l7.72-7.72 1.47 1.35L5.41 20z\"/>\n",
              "  </svg>\n",
              "      </button>\n",
              "      \n",
              "  <style>\n",
              "    .colab-df-container {\n",
              "      display:flex;\n",
              "      flex-wrap:wrap;\n",
              "      gap: 12px;\n",
              "    }\n",
              "\n",
              "    .colab-df-convert {\n",
              "      background-color: #E8F0FE;\n",
              "      border: none;\n",
              "      border-radius: 50%;\n",
              "      cursor: pointer;\n",
              "      display: none;\n",
              "      fill: #1967D2;\n",
              "      height: 32px;\n",
              "      padding: 0 0 0 0;\n",
              "      width: 32px;\n",
              "    }\n",
              "\n",
              "    .colab-df-convert:hover {\n",
              "      background-color: #E2EBFA;\n",
              "      box-shadow: 0px 1px 2px rgba(60, 64, 67, 0.3), 0px 1px 3px 1px rgba(60, 64, 67, 0.15);\n",
              "      fill: #174EA6;\n",
              "    }\n",
              "\n",
              "    [theme=dark] .colab-df-convert {\n",
              "      background-color: #3B4455;\n",
              "      fill: #D2E3FC;\n",
              "    }\n",
              "\n",
              "    [theme=dark] .colab-df-convert:hover {\n",
              "      background-color: #434B5C;\n",
              "      box-shadow: 0px 1px 3px 1px rgba(0, 0, 0, 0.15);\n",
              "      filter: drop-shadow(0px 1px 2px rgba(0, 0, 0, 0.3));\n",
              "      fill: #FFFFFF;\n",
              "    }\n",
              "  </style>\n",
              "\n",
              "      <script>\n",
              "        const buttonEl =\n",
              "          document.querySelector('#df-334a4e68-6a07-4de3-882e-a842d0bd87e4 button.colab-df-convert');\n",
              "        buttonEl.style.display =\n",
              "          google.colab.kernel.accessAllowed ? 'block' : 'none';\n",
              "\n",
              "        async function convertToInteractive(key) {\n",
              "          const element = document.querySelector('#df-334a4e68-6a07-4de3-882e-a842d0bd87e4');\n",
              "          const dataTable =\n",
              "            await google.colab.kernel.invokeFunction('convertToInteractive',\n",
              "                                                     [key], {});\n",
              "          if (!dataTable) return;\n",
              "\n",
              "          const docLinkHtml = 'Like what you see? Visit the ' +\n",
              "            '<a target=\"_blank\" href=https://colab.research.google.com/notebooks/data_table.ipynb>data table notebook</a>'\n",
              "            + ' to learn more about interactive tables.';\n",
              "          element.innerHTML = '';\n",
              "          dataTable['output_type'] = 'display_data';\n",
              "          await google.colab.output.renderOutput(dataTable, element);\n",
              "          const docLink = document.createElement('div');\n",
              "          docLink.innerHTML = docLinkHtml;\n",
              "          element.appendChild(docLink);\n",
              "        }\n",
              "      </script>\n",
              "    </div>\n",
              "  </div>\n",
              "  "
            ]
          },
          "metadata": {},
          "execution_count": 23
        }
      ]
    }
  ]
}